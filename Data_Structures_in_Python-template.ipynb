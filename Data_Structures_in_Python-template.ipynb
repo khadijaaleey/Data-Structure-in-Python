{
  "nbformat": 4,
  "nbformat_minor": 0,
  "metadata": {
    "colab": {
      "name": "Data Structures in Python.ipynb",
      "provenance": [],
      "collapsed_sections": [],
      "authorship_tag": "ABX9TyMUxpcn8B7nQZaB6aYj9XBh",
      "include_colab_link": true
    },
    "kernelspec": {
      "name": "python3",
      "display_name": "Python 3"
    },
    "language_info": {
      "name": "python"
    }
  },
  "cells": [
    {
      "cell_type": "markdown",
      "metadata": {
        "id": "view-in-github",
        "colab_type": "text"
      },
      "source": [
        "<a href=\"https://colab.research.google.com/github/khadijaaleey/Data-Structure-in-Python/blob/main/Data_Structures_in_Python-template.ipynb\" target=\"_parent\"><img src=\"https://colab.research.google.com/assets/colab-badge.svg\" alt=\"Open In Colab\"/></a>"
      ]
    },
    {
      "cell_type": "code",
      "metadata": {
        "id": "vdUo_-w9Of_g",
        "colab": {
          "base_uri": "https://localhost:8080/"
        },
        "outputId": "5ac2a06b-2ccd-4594-f4f6-9c720f2a27f6"
      },
      "source": [
        "print(\"Data Structures and Algorithms\")"
      ],
      "execution_count": 1,
      "outputs": [
        {
          "output_type": "stream",
          "name": "stdout",
          "text": [
            "Data Structures and Algorithms\n"
          ]
        }
      ]
    },
    {
      "cell_type": "code",
      "metadata": {
        "id": "pmIJusWIcf-z",
        "outputId": "e1a015bf-3811-4d68-cc50-3549704cedee",
        "colab": {
          "base_uri": "https://localhost:8080/"
        }
      },
      "source": [
        "print(\"The script for the exercises will be run on Google Colab\")"
      ],
      "execution_count": 2,
      "outputs": [
        {
          "output_type": "stream",
          "name": "stdout",
          "text": [
            "The script for the exercises will be run on Google Colab\n"
          ]
        }
      ]
    }
  ]
}