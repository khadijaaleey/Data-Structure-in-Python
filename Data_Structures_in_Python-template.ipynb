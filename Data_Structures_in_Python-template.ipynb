{
  "nbformat": 4,
  "nbformat_minor": 0,
  "metadata": {
    "colab": {
      "name": "Data Structures in Python.ipynb",
      "provenance": [],
      "collapsed_sections": [],
      "authorship_tag": "ABX9TyMatwbHuNNlvehhThLogz7i",
      "include_colab_link": true
    },
    "kernelspec": {
      "name": "python3",
      "display_name": "Python 3"
    },
    "language_info": {
      "name": "python"
    }
  },
  "cells": [
    {
      "cell_type": "markdown",
      "metadata": {
        "id": "view-in-github",
        "colab_type": "text"
      },
      "source": [
        "<a href=\"https://colab.research.google.com/github/khadijaaleey/Data-Structure-in-Python/blob/main/Data_Structures_in_Python-template.ipynb\" target=\"_parent\"><img src=\"https://colab.research.google.com/assets/colab-badge.svg\" alt=\"Open In Colab\"/></a>"
      ]
    },
    {
      "cell_type": "code",
      "metadata": {
        "id": "vdUo_-w9Of_g",
        "colab": {
          "base_uri": "https://localhost:8080/"
        },
        "outputId": "87fc3dd7-d8c0-4b57-e303-12c431f0f658"
      },
      "source": [
        "print(\"Data Structures and Algorithms\")"
      ],
      "execution_count": 2,
      "outputs": [
        {
          "output_type": "stream",
          "name": "stdout",
          "text": [
            "Data Structures and Algorithms\n"
          ]
        }
      ]
    }
  ]
}